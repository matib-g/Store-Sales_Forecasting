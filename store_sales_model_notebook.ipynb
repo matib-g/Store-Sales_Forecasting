{
 "cells": [
  {
   "cell_type": "markdown",
   "metadata": {},
   "source": [
    "# Imports"
   ]
  },
  {
   "cell_type": "code",
   "execution_count": 2,
   "metadata": {},
   "outputs": [],
   "source": [
    "import pandas as pd\n",
    "import os\n",
    "import matplotlib.pyplot as plt\n",
    "import numpy as np\n",
    "import seaborn as sns\n",
    "from sklearn.linear_model import LinearRegression\n",
    "from sklearn.multioutput import RegressorChain\n",
    "from sklearn.metrics import mean_squared_log_error\n",
    "from sklearn.ensemble import GradientBoostingRegressor\n",
    "from sklearn.ensemble import RandomForestRegressor\n",
    "from statsmodels.graphics.tsaplots import plot_pacf\n",
    "from sklearn.model_selection import ParameterGrid\n",
    "from sklearn.metrics import mean_squared_log_error\n",
    "from statsmodels.tsa.deterministic import CalendarFourier, DeterministicProcess\n",
    "from sklearn.model_selection import train_test_split\n",
    "from sklearn.preprocessing import OrdinalEncoder\n",
    "from xgboost import XGBRegressor\n",
    "from IPython import get_ipython\n",
    "from tqdm import tqdm\n",
    "import warnings\n",
    "warnings.filterwarnings('ignore')"
   ]
  },
  {
   "cell_type": "markdown",
   "metadata": {},
   "source": [
    "# Setup plots"
   ]
  },
  {
   "cell_type": "code",
   "execution_count": 3,
   "metadata": {},
   "outputs": [],
   "source": [
    "plt.style.use(\"seaborn-whitegrid\")\n",
    "plt.rc(\n",
    "    \"figure\",\n",
    "    autolayout=True,\n",
    "    figsize=(11, 4),\n",
    "    titlesize=18,\n",
    "    titleweight='bold',\n",
    ")\n",
    "plt.rc(\n",
    "    \"axes\",\n",
    "    labelweight=\"bold\",\n",
    "    labelsize=\"large\",\n",
    "    titleweight=\"bold\",\n",
    "    titlesize=16,\n",
    "    titlepad=10,\n",
    ")\n",
    "plot_params = dict(\n",
    "    color=\"0.75\",\n",
    "    style=\".-\",\n",
    "    markeredgecolor=\"0.25\",\n",
    "    markerfacecolor=\"0.25\",\n",
    "    legend=False,\n",
    ")\n",
    "\n",
    "get_ipython().config.InlineBackend.figure_format = 'retina'"
   ]
  },
  {
   "cell_type": "markdown",
   "metadata": {},
   "source": [
    "# Some functions to convert values in column between numbers and strings"
   ]
  },
  {
   "cell_type": "code",
   "execution_count": 4,
   "metadata": {},
   "outputs": [],
   "source": [
    "dictionaries = {}\n",
    "def convert_to_digits(df, col):\n",
    "    uniques = df[col].unique()\n",
    "    #index = df.index\n",
    "    unique_names = {}\n",
    "    digits = []\n",
    "    i = 0\n",
    "    for uniq in uniques:\n",
    "        unique_names[uniq] = i\n",
    "        i = i + 1\n",
    "    for name in tqdm(df[col]):\n",
    "        digits = digits + [unique_names[name]]\n",
    "    dictionaries[col] = unique_names\n",
    "    return digits\n",
    "\n",
    "def get_key(d, value):\n",
    "    return [key for key, val in d.items() if val==value]\n",
    "    \n",
    "def convert_back(df, col):\n",
    "    unique_names = dictionaries[col]\n",
    "    names = []\n",
    "    for digit in tqdm(df[col]):\n",
    "        names = names + get_key(unique_names, digit)\n",
    "    return names"
   ]
  },
  {
   "cell_type": "markdown",
   "metadata": {},
   "source": [
    "# Additional useful functions"
   ]
  },
  {
   "cell_type": "code",
   "execution_count": 5,
   "metadata": {},
   "outputs": [],
   "source": [
    "def make_lags(ts, lags, lead_time=1, name='y'):\n",
    "    return pd.concat(\n",
    "        {\n",
    "            f'{name}_lag_{i}': ts.shift(i)\n",
    "            for i in range(lead_time, lags + lead_time)\n",
    "        },\n",
    "        axis=1)"
   ]
  },
  {
   "cell_type": "code",
   "execution_count": 6,
   "metadata": {},
   "outputs": [],
   "source": [
    "def make_leads(ts, leads, name='y'):\n",
    "    return pd.concat(\n",
    "        {f'{name}_lead_{i}': ts.shift(-i)\n",
    "         for i in reversed(range(leads))},\n",
    "        axis=1)"
   ]
  },
  {
   "cell_type": "markdown",
   "metadata": {},
   "source": [
    "# Reading needed files with data"
   ]
  },
  {
   "cell_type": "code",
   "execution_count": 7,
   "metadata": {},
   "outputs": [],
   "source": [
    "holidays_events = pd.read_csv(\n",
    "    './store-sales-time-series-forecasting/holidays_events.csv',\n",
    "    dtype={\n",
    "        'type': 'category',\n",
    "        'locale': 'category',\n",
    "        'locale_name': 'category',\n",
    "        'description': 'category',\n",
    "        'transferred': 'bool',\n",
    "    },\n",
    "    parse_dates=['date'],\n",
    "    infer_datetime_format=True,\n",
    ")\n",
    "holidays_events = holidays_events.set_index('date').to_period('D')"
   ]
  },
  {
   "cell_type": "code",
   "execution_count": 8,
   "metadata": {},
   "outputs": [],
   "source": [
    "stores = pd.read_csv(\n",
    "    './store-sales-time-series-forecasting/stores.csv',\n",
    "    dtype={\n",
    "        'store_nbr': 'category',\n",
    "        'city': 'category',\n",
    "        'state': 'category',\n",
    "        'type': 'category',\n",
    "        'cluster': 'category',\n",
    "    },\n",
    "    index_col = 'store_nbr',\n",
    ")"
   ]
  },
  {
   "cell_type": "code",
   "execution_count": 9,
   "metadata": {},
   "outputs": [
    {
     "name": "stderr",
     "output_type": "stream",
     "text": [
      "100%|██████████| 54/54 [00:00<00:00, 11423.43it/s]\n",
      "100%|██████████| 54/54 [00:00<00:00, 22889.58it/s]\n",
      "100%|██████████| 54/54 [00:00<00:00, 4915.31it/s]\n"
     ]
    }
   ],
   "source": [
    "stores['city'] = convert_to_digits(stores, col='city')\n",
    "stores['state'] = convert_to_digits(stores, col='state')\n",
    "stores['type'] = convert_to_digits(stores, col='type')"
   ]
  },
  {
   "cell_type": "code",
   "execution_count": 10,
   "metadata": {},
   "outputs": [],
   "source": [
    "transactions = pd.read_csv(\n",
    "    './store-sales-time-series-forecasting/transactions.csv',\n",
    "    parse_dates=['date'],\n",
    "    infer_datetime_format=True,\n",
    ")\n",
    "transactions = transactions.set_index('date').to_period('D')"
   ]
  },
  {
   "cell_type": "code",
   "execution_count": 11,
   "metadata": {},
   "outputs": [
    {
     "data": {
      "text/html": [
       "<div>\n",
       "<style scoped>\n",
       "    .dataframe tbody tr th:only-of-type {\n",
       "        vertical-align: middle;\n",
       "    }\n",
       "\n",
       "    .dataframe tbody tr th {\n",
       "        vertical-align: top;\n",
       "    }\n",
       "\n",
       "    .dataframe thead th {\n",
       "        text-align: right;\n",
       "    }\n",
       "</style>\n",
       "<table border=\"1\" class=\"dataframe\">\n",
       "  <thead>\n",
       "    <tr style=\"text-align: right;\">\n",
       "      <th></th>\n",
       "      <th>store_nbr</th>\n",
       "      <th>transactions</th>\n",
       "    </tr>\n",
       "    <tr>\n",
       "      <th>date</th>\n",
       "      <th></th>\n",
       "      <th></th>\n",
       "    </tr>\n",
       "  </thead>\n",
       "  <tbody>\n",
       "    <tr>\n",
       "      <th>2013-01-01</th>\n",
       "      <td>25</td>\n",
       "      <td>770</td>\n",
       "    </tr>\n",
       "    <tr>\n",
       "      <th>2013-01-02</th>\n",
       "      <td>1</td>\n",
       "      <td>2111</td>\n",
       "    </tr>\n",
       "    <tr>\n",
       "      <th>2013-01-02</th>\n",
       "      <td>2</td>\n",
       "      <td>2358</td>\n",
       "    </tr>\n",
       "    <tr>\n",
       "      <th>2013-01-02</th>\n",
       "      <td>3</td>\n",
       "      <td>3487</td>\n",
       "    </tr>\n",
       "    <tr>\n",
       "      <th>2013-01-02</th>\n",
       "      <td>4</td>\n",
       "      <td>1922</td>\n",
       "    </tr>\n",
       "    <tr>\n",
       "      <th>...</th>\n",
       "      <td>...</td>\n",
       "      <td>...</td>\n",
       "    </tr>\n",
       "    <tr>\n",
       "      <th>2017-08-15</th>\n",
       "      <td>50</td>\n",
       "      <td>2804</td>\n",
       "    </tr>\n",
       "    <tr>\n",
       "      <th>2017-08-15</th>\n",
       "      <td>51</td>\n",
       "      <td>1573</td>\n",
       "    </tr>\n",
       "    <tr>\n",
       "      <th>2017-08-15</th>\n",
       "      <td>52</td>\n",
       "      <td>2255</td>\n",
       "    </tr>\n",
       "    <tr>\n",
       "      <th>2017-08-15</th>\n",
       "      <td>53</td>\n",
       "      <td>932</td>\n",
       "    </tr>\n",
       "    <tr>\n",
       "      <th>2017-08-15</th>\n",
       "      <td>54</td>\n",
       "      <td>802</td>\n",
       "    </tr>\n",
       "  </tbody>\n",
       "</table>\n",
       "<p>83488 rows × 2 columns</p>\n",
       "</div>"
      ],
      "text/plain": [
       "            store_nbr  transactions\n",
       "date                               \n",
       "2013-01-01         25           770\n",
       "2013-01-02          1          2111\n",
       "2013-01-02          2          2358\n",
       "2013-01-02          3          3487\n",
       "2013-01-02          4          1922\n",
       "...               ...           ...\n",
       "2017-08-15         50          2804\n",
       "2017-08-15         51          1573\n",
       "2017-08-15         52          2255\n",
       "2017-08-15         53           932\n",
       "2017-08-15         54           802\n",
       "\n",
       "[83488 rows x 2 columns]"
      ]
     },
     "execution_count": 11,
     "metadata": {},
     "output_type": "execute_result"
    }
   ],
   "source": [
    "transactions"
   ]
  },
  {
   "cell_type": "code",
   "execution_count": 12,
   "metadata": {},
   "outputs": [],
   "source": [
    "oil = pd.read_csv(\n",
    "    './store-sales-time-series-forecasting/oil.csv',\n",
    "    parse_dates=['date'],\n",
    "    infer_datetime_format=True,\n",
    ")\n",
    "oil = oil.set_index('date').to_period('D')"
   ]
  },
  {
   "cell_type": "code",
   "execution_count": 14,
   "metadata": {},
   "outputs": [
    {
     "name": "stderr",
     "output_type": "stream",
     "text": [
      "  5%|▌         | 153264/3000888 [00:43<13:20, 3559.32it/s]\n"
     ]
    },
    {
     "ename": "KeyboardInterrupt",
     "evalue": "",
     "output_type": "error",
     "traceback": [
      "\u001b[0;31m---------------------------------------------------------------------------\u001b[0m",
      "\u001b[0;31mKeyboardInterrupt\u001b[0m                         Traceback (most recent call last)",
      "\u001b[0;32m<ipython-input-14-0fdacfe794f2>\u001b[0m in \u001b[0;36m<module>\u001b[0;34m\u001b[0m\n\u001b[1;32m     11\u001b[0m \u001b[0mstore_sales\u001b[0m\u001b[0;34m[\u001b[0m\u001b[0;34m'date'\u001b[0m\u001b[0;34m]\u001b[0m \u001b[0;34m=\u001b[0m \u001b[0mstore_sales\u001b[0m\u001b[0;34m.\u001b[0m\u001b[0mdate\u001b[0m\u001b[0;34m.\u001b[0m\u001b[0mdt\u001b[0m\u001b[0;34m.\u001b[0m\u001b[0mto_period\u001b[0m\u001b[0;34m(\u001b[0m\u001b[0;34m'D'\u001b[0m\u001b[0;34m)\u001b[0m\u001b[0;34m\u001b[0m\u001b[0;34m\u001b[0m\u001b[0m\n\u001b[1;32m     12\u001b[0m \u001b[0mstore_sales\u001b[0m\u001b[0;34m[\u001b[0m\u001b[0;34m'store_nbr_feature'\u001b[0m\u001b[0;34m]\u001b[0m \u001b[0;34m=\u001b[0m \u001b[0mstore_sales\u001b[0m\u001b[0;34m[\u001b[0m\u001b[0;34m'store_nbr'\u001b[0m\u001b[0;34m]\u001b[0m\u001b[0;34m.\u001b[0m\u001b[0mcopy\u001b[0m\u001b[0;34m(\u001b[0m\u001b[0;34m)\u001b[0m\u001b[0;34m\u001b[0m\u001b[0;34m\u001b[0m\u001b[0m\n\u001b[0;32m---> 13\u001b[0;31m \u001b[0mstore_sales\u001b[0m\u001b[0;34m[\u001b[0m\u001b[0;34m'family_feature'\u001b[0m\u001b[0;34m]\u001b[0m \u001b[0;34m=\u001b[0m \u001b[0mconvert_to_digits\u001b[0m\u001b[0;34m(\u001b[0m\u001b[0mstore_sales\u001b[0m\u001b[0;34m,\u001b[0m \u001b[0mcol\u001b[0m\u001b[0;34m=\u001b[0m\u001b[0;34m'family'\u001b[0m\u001b[0;34m)\u001b[0m\u001b[0;34m\u001b[0m\u001b[0;34m\u001b[0m\u001b[0m\n\u001b[0m\u001b[1;32m     14\u001b[0m \u001b[0mstore_sales\u001b[0m\u001b[0;34m[\u001b[0m\u001b[0;34m'day'\u001b[0m\u001b[0;34m]\u001b[0m \u001b[0;34m=\u001b[0m \u001b[0mstore_sales\u001b[0m\u001b[0;34m.\u001b[0m\u001b[0mindex\u001b[0m\u001b[0;34m.\u001b[0m\u001b[0mday\u001b[0m\u001b[0;34m\u001b[0m\u001b[0;34m\u001b[0m\u001b[0m\n\u001b[1;32m     15\u001b[0m \u001b[0mstore_sales\u001b[0m \u001b[0;34m=\u001b[0m \u001b[0mstore_sales\u001b[0m\u001b[0;34m.\u001b[0m\u001b[0mset_index\u001b[0m\u001b[0;34m(\u001b[0m\u001b[0;34m[\u001b[0m\u001b[0;34m'store_nbr'\u001b[0m\u001b[0;34m,\u001b[0m \u001b[0;34m'family'\u001b[0m\u001b[0;34m,\u001b[0m \u001b[0;34m'date'\u001b[0m\u001b[0;34m]\u001b[0m\u001b[0;34m)\u001b[0m\u001b[0;34m.\u001b[0m\u001b[0msort_index\u001b[0m\u001b[0;34m(\u001b[0m\u001b[0;34m)\u001b[0m\u001b[0;34m\u001b[0m\u001b[0;34m\u001b[0m\u001b[0m\n",
      "\u001b[0;32m<ipython-input-4-2630b19fdb8f>\u001b[0m in \u001b[0;36mconvert_to_digits\u001b[0;34m(df, col)\u001b[0m\n\u001b[1;32m     10\u001b[0m         \u001b[0mi\u001b[0m \u001b[0;34m=\u001b[0m \u001b[0mi\u001b[0m \u001b[0;34m+\u001b[0m \u001b[0;36m1\u001b[0m\u001b[0;34m\u001b[0m\u001b[0;34m\u001b[0m\u001b[0m\n\u001b[1;32m     11\u001b[0m     \u001b[0;32mfor\u001b[0m \u001b[0mname\u001b[0m \u001b[0;32min\u001b[0m \u001b[0mtqdm\u001b[0m\u001b[0;34m(\u001b[0m\u001b[0mdf\u001b[0m\u001b[0;34m[\u001b[0m\u001b[0mcol\u001b[0m\u001b[0;34m]\u001b[0m\u001b[0;34m)\u001b[0m\u001b[0;34m:\u001b[0m\u001b[0;34m\u001b[0m\u001b[0;34m\u001b[0m\u001b[0m\n\u001b[0;32m---> 12\u001b[0;31m         \u001b[0mdigits\u001b[0m \u001b[0;34m=\u001b[0m \u001b[0mdigits\u001b[0m \u001b[0;34m+\u001b[0m \u001b[0;34m[\u001b[0m\u001b[0munique_names\u001b[0m\u001b[0;34m[\u001b[0m\u001b[0mname\u001b[0m\u001b[0;34m]\u001b[0m\u001b[0;34m]\u001b[0m\u001b[0;34m\u001b[0m\u001b[0;34m\u001b[0m\u001b[0m\n\u001b[0m\u001b[1;32m     13\u001b[0m     \u001b[0mdictionaries\u001b[0m\u001b[0;34m[\u001b[0m\u001b[0mcol\u001b[0m\u001b[0;34m]\u001b[0m \u001b[0;34m=\u001b[0m \u001b[0munique_names\u001b[0m\u001b[0;34m\u001b[0m\u001b[0;34m\u001b[0m\u001b[0m\n\u001b[1;32m     14\u001b[0m     \u001b[0;32mreturn\u001b[0m \u001b[0mdigits\u001b[0m\u001b[0;34m\u001b[0m\u001b[0;34m\u001b[0m\u001b[0m\n",
      "\u001b[0;31mKeyboardInterrupt\u001b[0m: "
     ]
    }
   ],
   "source": [
    "store_sales = pd.read_csv(\n",
    "    './store-sales-time-series-forecasting/train.csv',\n",
    "    dtype={\n",
    "        'store_nbr': 'category',\n",
    "        'family': 'category',\n",
    "        'sales': 'float32',\n",
    "    },\n",
    "    parse_dates=['date'],\n",
    "    infer_datetime_format=True,\n",
    ")\n",
    "store_sales['date'] = store_sales.date.dt.to_period('D')\n",
    "store_sales['store_nbr_feature'] = store_sales['store_nbr'].copy()\n",
    "store_sales['family_feature'] = convert_to_digits(store_sales, col='family')\n",
    "store_sales['day'] = store_sales.index.day\n",
    "store_sales = store_sales.set_index(['store_nbr', 'family', 'date']).sort_index()\n",
    "store_sales = store_sales.join(oil.fillna(method='bfill'), on='date')\n",
    "store_sales = store_sales.join(stores, on='store_nbr')\n",
    "store_sales = store_sales.join(transactions, on=['store_nbr', 'date'])\n",
    "store_sales['dcoilwtico'] = store_sales['dcoilwtico'].fillna(method='bfill')"
   ]
  },
  {
   "cell_type": "code",
   "execution_count": null,
   "metadata": {},
   "outputs": [],
   "source": [
    "store_sales"
   ]
  },
  {
   "cell_type": "markdown",
   "metadata": {},
   "source": [
    "# Creating HybridModel class"
   ]
  },
  {
   "cell_type": "code",
   "execution_count": 262,
   "metadata": {},
   "outputs": [],
   "source": [
    "class BoostedHybrid:\n",
    "    def __init__(self, model_1, model_2):\n",
    "        self.model_1 = model_1\n",
    "        self.model_2 = model_2\n",
    "        self.y_columns = None\n",
    "        \n",
    "    def fit(self, X_1, X_2, y, alpha):\n",
    "        self.model_1.fit(X_1, y)\n",
    "        y_fit = pd.DataFrame(self.model_1.predict(X_1), index=X_1.index, columns=y.columns)\n",
    "        y_resid = y - y_fit\n",
    "        y_resid = y_resid.stack().squeeze()\n",
    "        X_sr = create_sales_window_features(X_2, y_resid,alpha)\n",
    "        X = create_onpromo_window_features(X_sr, alpha)\n",
    "        self.model_2.fit(X, y_resid)\n",
    "        self.y_columns = y.columns\n",
    "        self.y_fit = y_fit\n",
    "        self.y_resid = y_resid\n",
    "        \n",
    "    def predict(self, X_1, X_2):\n",
    "        y_pred = pd.DataFrame(self.model_1.predict(X_1), index=X_1.index, columns=self.y_columns)\n",
    "        y_pred = y_pred.stack().squeeze()\n",
    "        y_pred += self.model_2.predict(X_2)\n",
    "        return y_pred.unstack()\n",
    "    \n",
    "    def create_sales_window_features(self, X, y_resid, alpha):\n",
    "        X_2 = X.copy()\n",
    "        X_2.loc[:, 'sales'] = y_resid\n",
    "        for col in tqdm(X_2.columns):\n",
    "        if col[0] == 'sales':\n",
    "            name_lags = ('sales_lags_1', col[1], col[2])\n",
    "            name_mean = ('sales_lags_mean_7', col[1], col[2])\n",
    "            name_std = ('sales_lags_std_7', col[1], col[2])\n",
    "            new_cols = pd.MultiIndex.from_tuples([name_lags, name_mean, name_std])\n",
    "            X_2 = X_2.reindex(columns=X_2.columns.union(new_cols))\n",
    "            X_2[name_lags] = make_lags(X_2[col], lags=1)\n",
    "            X_2[name_mean] = X_2[name_lags].ewm(alpha=alpha).mean()\n",
    "            X_2[name_std] = X_2[name_lags].ewm(alpha=alpha).std()\n",
    "        return X_2\n",
    "    \n",
    "    def create_onpromo_window_features(self, X, alpha):\n",
    "        X_2 = X.copy()\n",
    "        for col in tqdm(X_2.columns):\n",
    "        if col[0] == 'onpromotion':\n",
    "            onpromotion = X_2[col].squeeze().rename('onpromotion')\n",
    "            name_lags = ('onpromotion_lags_1', col[1], col[2])\n",
    "            name_leads = ('onpromotion_lead_0', col[1], col[2])\n",
    "            name_mean = ('onpromotion_mean_7', col[1], col[2])\n",
    "            new_cols = pd.MultiIndex.from_tuples([name_lags, name_leads, name_mean])\n",
    "            X_2 = X_2.reindex(columns=X_2.columns.union(new_cols))\n",
    "            X_2[name_lags] = make_lags(onpromotion, lags=1, name='y_promo')\n",
    "            X_2[name_leads] = make_leads(onpromotion, leads=1)\n",
    "            X_2[name_mean] = onpromotion.ewm(alpha=alpha).mean()\n",
    "        return X_2"
   ]
  },
  {
   "cell_type": "markdown",
   "metadata": {},
   "source": [
    "# Creating model for Store Sales - Time Series Forecasting competition"
   ]
  },
  {
   "cell_type": "markdown",
   "metadata": {},
   "source": [
    "### Data processing"
   ]
  },
  {
   "cell_type": "code",
   "execution_count": 263,
   "metadata": {},
   "outputs": [],
   "source": [
    "df_train = store_sales.unstack(['store_nbr', 'family']).loc[\"2017\"]\n",
    "y = df_train.loc[:, 'sales'].squeeze()"
   ]
  },
  {
   "cell_type": "code",
   "execution_count": 264,
   "metadata": {},
   "outputs": [],
   "source": [
    "fourier = CalendarFourier(freq='M', order=4)\n",
    "dp = DeterministicProcess(\n",
    "    index=y.index,\n",
    "    constant=True,\n",
    "    order=1,\n",
    "    seasonal=True,\n",
    "    additional_terms=[fourier],\n",
    "    drop=True,\n",
    ")\n",
    "X_1 = dp.in_sample()\n",
    "X_1['NewYear'] = (X_1.index.dayofyear == 1)"
   ]
  },
  {
   "cell_type": "code",
   "execution_count": null,
   "metadata": {},
   "outputs": [],
   "source": [
    "X_2 = df_train.drop('sales', axis=1).stack()"
   ]
  },
  {
   "cell_type": "code",
   "execution_count": null,
   "metadata": {},
   "outputs": [],
   "source": [
    "model = BoostedHybrid(model_1=LinearRegression(), model_2=XGBRegressor())"
   ]
  },
  {
   "cell_type": "code",
   "execution_count": null,
   "metadata": {},
   "outputs": [],
   "source": [
    "y_train, y_valid = y[:\"2017-07-01\"], y[\"2017-07-02\":]\n",
    "X1_train, X1_valid = X_1[: \"2017-07-01\"], X_1[\"2017-07-02\" :]\n",
    "X2_train, X2_valid = X_2.loc[:\"2017-07-01\"], X_2.loc[\"2017-07-02\":]\n",
    "\n",
    "model.fit(X1_train, X2_train, y_train, 0.5)\n",
    "y_fit = model.predict(X1_train, X2_train).clip(0.0)\n",
    "y_pred = model.predict(X1_valid, X2_valid).clip(0.0)\n",
    "\n",
    "rmsle_train = mean_squared_log_error(y_train, y_fit) ** 0.5\n",
    "rmsle_valid = mean_squared_log_error(y_valid, y_pred) ** 0.5\n",
    "print(f'Training RMSLE: {rmsle_train:.5f}')\n",
    "print(f'Validation RMSLE: {rmsle_valid:.5f}')\n",
    "\n",
    "families = y.columns[0:6]\n",
    "axs = y.loc(axis=1)[families].plot(\n",
    "    subplots=True, sharex=True, figsize=(11, 9), **plot_params, alpha=0.5,\n",
    ")\n",
    "_ = y_fit.loc(axis=1)[families].plot(subplots=True, sharex=True, color='C0', ax=axs)\n",
    "_ = y_pred.loc(axis=1)[families].plot(subplots=True, sharex=True, color='C3', ax=axs)\n",
    "for ax, family in zip(axs, families):\n",
    "    ax.legend([])\n",
    "    ax.set_ylabel(family)"
   ]
  },
  {
   "cell_type": "code",
   "execution_count": null,
   "metadata": {},
   "outputs": [],
   "source": [
    "efficiency = {}\n",
    "alphas = [0.9, 0.8, 0.7, 0.6, 0.5, 0.4, 0.3, 0.2, 0.1]\n",
    "for alpha in alphas:\n",
    "    model.fit(X1_train, X2_train, y_train, alpha)\n",
    "    y_fit = model.predict(X1_train, X2_train).clip(0.0)\n",
    "    y_pred = model.predict(X1_valid, X2_valid).clip(0.0)\n",
    "\n",
    "    rmsle_train = mean_squared_log_error(y_train, y_fit) ** 0.5\n",
    "    rmsle_valid = mean_squared_log_error(y_valid, y_pred) ** 0.5\n",
    "    \n",
    "    efficiency[alpha] = rmsle_valid\n",
    "    \n",
    "    print(f'Training RMSLE: {rmsle_train:.5f}')\n",
    "    print(f'Validation RMSLE: {rmsle_valid:.5f}')\n",
    "\n",
    "min_val_error = min(efficiency, key=efficiency.get)\n",
    "print(f'Minimal validation error is for alpha = {min_val_error}')"
   ]
  },
  {
   "cell_type": "code",
   "execution_count": 265,
   "metadata": {},
   "outputs": [],
   "source": [
    "#model = LinearRegression(fit_intercept=False)\n",
    "#model.fit(X_1, y)\n",
    "#y_pred = pd.DataFrame(model.predict(X_1), index=X_1.index, columns=y.columns)"
   ]
  },
  {
   "cell_type": "code",
   "execution_count": 266,
   "metadata": {},
   "outputs": [],
   "source": [
    "#y_deseason = y - y_pred"
   ]
  },
  {
   "cell_type": "code",
   "execution_count": null,
   "metadata": {},
   "outputs": [],
   "source": [
    "#STORE_NBR = '1'  # 1 - 54\n",
    "#FAMILY = 'PRODUCE'\n",
    "# Uncomment to see a list of product families\n",
    "# display(store_sales.index.get_level_values('family').unique())\n",
    "\n",
    "#ax = df_train.loc(axis=1)['sales', STORE_NBR, FAMILY].plot(**plot_params)\n",
    "#ax = y_pred.loc(axis=1)[STORE_NBR, FAMILY].plot(ax=ax)\n",
    "#ax = y_deseason.loc(axis=1)[STORE_NBR, FAMILY].plot(ax=ax)\n",
    "#ax.set_title(f'{FAMILY} Sales at Store {STORE_NBR}');"
   ]
  },
  {
   "cell_type": "code",
   "execution_count": 268,
   "metadata": {},
   "outputs": [],
   "source": [
    "#df_train_deseason = df_train.copy()\n",
    "#df_train_deseason.loc[:, 'sales'] = y_deseason"
   ]
  },
  {
   "cell_type": "code",
   "execution_count": 269,
   "metadata": {},
   "outputs": [],
   "source": [
    "#df_train_deseason"
   ]
  },
  {
   "cell_type": "code",
   "execution_count": 270,
   "metadata": {},
   "outputs": [],
   "source": [
    "#df_train_deseason = df_train.copy()\n",
    "#for col in tqdm(df_train.columns):\n",
    "#    if col[0] == 'sales':\n",
    "#        df_train_deseason[col] = y_deseason[(col[1], col[2])]"
   ]
  },
  {
   "cell_type": "code",
   "execution_count": 275,
   "metadata": {},
   "outputs": [],
   "source": [
    "df_train_final = df_train_promo.copy()"
   ]
  },
  {
   "cell_type": "code",
   "execution_count": null,
   "metadata": {},
   "outputs": [],
   "source": []
  },
  {
   "cell_type": "markdown",
   "metadata": {},
   "source": [
    "### Loading test data and check the efficincy of our model on it"
   ]
  },
  {
   "cell_type": "code",
   "execution_count": 276,
   "metadata": {},
   "outputs": [],
   "source": [
    "df_test = pd.read_csv(\n",
    "    './store-sales-time-series-forecasting/test.csv',\n",
    "    dtype={\n",
    "        'store_nbr': 'category',\n",
    "        'family': 'category',\n",
    "        'onpromotion': 'uint32',\n",
    "    },\n",
    "    parse_dates=['date'],\n",
    "    infer_datetime_format=True,\n",
    ")\n",
    "df_test['date'] = df_test.date.dt.to_period('D')\n",
    "df_test = df_test.set_index(['store_nbr', 'family', 'date']).sort_index()\n",
    "\n",
    "# Create features for test set\n",
    "X_test = dp.out_of_sample(steps=16)\n",
    "X_test.index.name = 'date'\n",
    "X_test['NewYear'] = (X_test.index.dayofyear == 1)\n",
    "\n",
    "y_submit = pd.DataFrame(model.predict(X_test), index=X_test.index, columns=y.columns)\n",
    "y_submit = y_submit.stack(['store_nbr', 'family'])"
   ]
  },
  {
   "cell_type": "code",
   "execution_count": 277,
   "metadata": {},
   "outputs": [],
   "source": [
    "y_submit = y_submit.drop(columns=['city','cluster','dcoilwtico','onpromotion','state','type'])\n",
    "#y_submit.to_csv('submission.csv', index=False)"
   ]
  },
  {
   "cell_type": "code",
   "execution_count": 279,
   "metadata": {},
   "outputs": [
    {
     "data": {
      "text/html": [
       "<div>\n",
       "<style scoped>\n",
       "    .dataframe tbody tr th:only-of-type {\n",
       "        vertical-align: middle;\n",
       "    }\n",
       "\n",
       "    .dataframe tbody tr th {\n",
       "        vertical-align: top;\n",
       "    }\n",
       "\n",
       "    .dataframe thead th {\n",
       "        text-align: right;\n",
       "    }\n",
       "</style>\n",
       "<table border=\"1\" class=\"dataframe\">\n",
       "  <thead>\n",
       "    <tr style=\"text-align: right;\">\n",
       "      <th></th>\n",
       "      <th></th>\n",
       "      <th></th>\n",
       "      <th>id</th>\n",
       "      <th>onpromotion</th>\n",
       "    </tr>\n",
       "    <tr>\n",
       "      <th>store_nbr</th>\n",
       "      <th>family</th>\n",
       "      <th>date</th>\n",
       "      <th></th>\n",
       "      <th></th>\n",
       "    </tr>\n",
       "  </thead>\n",
       "  <tbody>\n",
       "    <tr>\n",
       "      <th rowspan=\"5\" valign=\"top\">1</th>\n",
       "      <th rowspan=\"5\" valign=\"top\">AUTOMOTIVE</th>\n",
       "      <th>2017-08-16</th>\n",
       "      <td>3000888</td>\n",
       "      <td>0</td>\n",
       "    </tr>\n",
       "    <tr>\n",
       "      <th>2017-08-17</th>\n",
       "      <td>3002670</td>\n",
       "      <td>0</td>\n",
       "    </tr>\n",
       "    <tr>\n",
       "      <th>2017-08-18</th>\n",
       "      <td>3004452</td>\n",
       "      <td>0</td>\n",
       "    </tr>\n",
       "    <tr>\n",
       "      <th>2017-08-19</th>\n",
       "      <td>3006234</td>\n",
       "      <td>0</td>\n",
       "    </tr>\n",
       "    <tr>\n",
       "      <th>2017-08-20</th>\n",
       "      <td>3008016</td>\n",
       "      <td>0</td>\n",
       "    </tr>\n",
       "    <tr>\n",
       "      <th>...</th>\n",
       "      <th>...</th>\n",
       "      <th>...</th>\n",
       "      <td>...</td>\n",
       "      <td>...</td>\n",
       "    </tr>\n",
       "    <tr>\n",
       "      <th rowspan=\"5\" valign=\"top\">9</th>\n",
       "      <th rowspan=\"5\" valign=\"top\">SEAFOOD</th>\n",
       "      <th>2017-08-27</th>\n",
       "      <td>3022271</td>\n",
       "      <td>0</td>\n",
       "    </tr>\n",
       "    <tr>\n",
       "      <th>2017-08-28</th>\n",
       "      <td>3024053</td>\n",
       "      <td>0</td>\n",
       "    </tr>\n",
       "    <tr>\n",
       "      <th>2017-08-29</th>\n",
       "      <td>3025835</td>\n",
       "      <td>0</td>\n",
       "    </tr>\n",
       "    <tr>\n",
       "      <th>2017-08-30</th>\n",
       "      <td>3027617</td>\n",
       "      <td>0</td>\n",
       "    </tr>\n",
       "    <tr>\n",
       "      <th>2017-08-31</th>\n",
       "      <td>3029399</td>\n",
       "      <td>0</td>\n",
       "    </tr>\n",
       "  </tbody>\n",
       "</table>\n",
       "<p>28512 rows × 2 columns</p>\n",
       "</div>"
      ],
      "text/plain": [
       "                                      id  onpromotion\n",
       "store_nbr family     date                            \n",
       "1         AUTOMOTIVE 2017-08-16  3000888            0\n",
       "                     2017-08-17  3002670            0\n",
       "                     2017-08-18  3004452            0\n",
       "                     2017-08-19  3006234            0\n",
       "                     2017-08-20  3008016            0\n",
       "...                                  ...          ...\n",
       "9         SEAFOOD    2017-08-27  3022271            0\n",
       "                     2017-08-28  3024053            0\n",
       "                     2017-08-29  3025835            0\n",
       "                     2017-08-30  3027617            0\n",
       "                     2017-08-31  3029399            0\n",
       "\n",
       "[28512 rows x 2 columns]"
      ]
     },
     "execution_count": 279,
     "metadata": {},
     "output_type": "execute_result"
    }
   ],
   "source": [
    "df_test"
   ]
  },
  {
   "cell_type": "code",
   "execution_count": 278,
   "metadata": {},
   "outputs": [
    {
     "data": {
      "text/plain": [
       "date        store_nbr  family                    \n",
       "2017-08-16  1          AUTOMOTIVE                       4.274030\n",
       "                       BABY CARE                        0.000000\n",
       "                       BEAUTY                           3.495530\n",
       "                       BEVERAGES                     2414.541711\n",
       "                       BOOKS                            0.438314\n",
       "                                                        ...     \n",
       "2017-08-31  9          POULTRY                        372.417153\n",
       "                       PREPARED FOODS                 107.843530\n",
       "                       PRODUCE                       1273.316507\n",
       "                       SCHOOL AND OFFICE SUPPLIES      44.945937\n",
       "                       SEAFOOD                         18.946715\n",
       "Length: 28512, dtype: float64"
      ]
     },
     "execution_count": 278,
     "metadata": {},
     "output_type": "execute_result"
    }
   ],
   "source": [
    "y_submit"
   ]
  }
 ],
 "metadata": {
  "kernelspec": {
   "display_name": "Python 3",
   "language": "python",
   "name": "python3"
  },
  "language_info": {
   "codemirror_mode": {
    "name": "ipython",
    "version": 3
   },
   "file_extension": ".py",
   "mimetype": "text/x-python",
   "name": "python",
   "nbconvert_exporter": "python",
   "pygments_lexer": "ipython3",
   "version": "3.8.5"
  }
 },
 "nbformat": 4,
 "nbformat_minor": 4
}
